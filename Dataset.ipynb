{
 "cells": [
  {
   "cell_type": "markdown",
   "metadata": {},
   "source": [
    "# Dataset"
   ]
  },
  {
   "cell_type": "markdown",
   "metadata": {},
   "source": [
    "This notebook contains code for summarizing the dataset of use cases."
   ]
  },
  {
   "cell_type": "markdown",
   "metadata": {},
   "source": [
    "## Imports"
   ]
  },
  {
   "cell_type": "code",
   "execution_count": 1,
   "metadata": {},
   "outputs": [],
   "source": [
    "import pandas as pd\n",
    "\n",
    "from paths import input_folder, output_folder\n",
    "\n",
    "import numpy as np\n",
    "import matplotlib.pyplot as plt\n",
    "%matplotlib inline"
   ]
  },
  {
   "cell_type": "markdown",
   "metadata": {},
   "source": [
    "# Load data"
   ]
  },
  {
   "cell_type": "code",
   "execution_count": 2,
   "metadata": {
    "scrolled": true
   },
   "outputs": [
    {
     "data": {
      "text/html": [
       "<div>\n",
       "<style scoped>\n",
       "    .dataframe tbody tr th:only-of-type {\n",
       "        vertical-align: middle;\n",
       "    }\n",
       "\n",
       "    .dataframe tbody tr th {\n",
       "        vertical-align: top;\n",
       "    }\n",
       "\n",
       "    .dataframe thead th {\n",
       "        text-align: right;\n",
       "    }\n",
       "</style>\n",
       "<table border=\"1\" class=\"dataframe\">\n",
       "  <thead>\n",
       "    <tr style=\"text-align: right;\">\n",
       "      <th></th>\n",
       "      <th>ProjectID</th>\n",
       "      <th>UC</th>\n",
       "      <th>TransTypes</th>\n",
       "      <th>UCType</th>\n",
       "      <th>Cfp</th>\n",
       "      <th>TitleTokens</th>\n",
       "    </tr>\n",
       "  </thead>\n",
       "  <tbody>\n",
       "    <tr>\n",
       "      <th>0</th>\n",
       "      <td>P01</td>\n",
       "      <td>UC2-1-1</td>\n",
       "      <td>C|D|R|U</td>\n",
       "      <td>C|D|R|U</td>\n",
       "      <td>16</td>\n",
       "      <td>manage faculties crud</td>\n",
       "    </tr>\n",
       "    <tr>\n",
       "      <th>1</th>\n",
       "      <td>P01</td>\n",
       "      <td>UC2-1-10</td>\n",
       "      <td>DL|L|R</td>\n",
       "      <td>L</td>\n",
       "      <td>27</td>\n",
       "      <td>assign science olympiads major specialty edit ...</td>\n",
       "    </tr>\n",
       "    <tr>\n",
       "      <th>2</th>\n",
       "      <td>P01</td>\n",
       "      <td>UC2-1-11</td>\n",
       "      <td>CS|R</td>\n",
       "      <td>CS</td>\n",
       "      <td>7</td>\n",
       "      <td>manage ranking algorithms</td>\n",
       "    </tr>\n",
       "    <tr>\n",
       "      <th>3</th>\n",
       "      <td>P01</td>\n",
       "      <td>UC2-1-13</td>\n",
       "      <td>C|D|R|U</td>\n",
       "      <td>C|D|R|U</td>\n",
       "      <td>17</td>\n",
       "      <td>manage exams crud</td>\n",
       "    </tr>\n",
       "    <tr>\n",
       "      <th>4</th>\n",
       "      <td>P01</td>\n",
       "      <td>UC2-1-14</td>\n",
       "      <td>DL|L|R</td>\n",
       "      <td>L</td>\n",
       "      <td>27</td>\n",
       "      <td>manage assignments exams majors specialties</td>\n",
       "    </tr>\n",
       "  </tbody>\n",
       "</table>\n",
       "</div>"
      ],
      "text/plain": [
       "  ProjectID        UC TransTypes   UCType  Cfp  \\\n",
       "0       P01   UC2-1-1    C|D|R|U  C|D|R|U   16   \n",
       "1       P01  UC2-1-10     DL|L|R        L   27   \n",
       "2       P01  UC2-1-11       CS|R       CS    7   \n",
       "3       P01  UC2-1-13    C|D|R|U  C|D|R|U   17   \n",
       "4       P01  UC2-1-14     DL|L|R        L   27   \n",
       "\n",
       "                                         TitleTokens  \n",
       "0                              manage faculties crud  \n",
       "1  assign science olympiads major specialty edit ...  \n",
       "2                          manage ranking algorithms  \n",
       "3                                  manage exams crud  \n",
       "4        manage assignments exams majors specialties  "
      ]
     },
     "execution_count": 2,
     "metadata": {},
     "output_type": "execute_result"
    }
   ],
   "source": [
    "use_cases_df = pd.read_csv(f\"{input_folder}use-cases.csv\", index_col=0)\n",
    "use_cases_df.head(5)"
   ]
  },
  {
   "cell_type": "markdown",
   "metadata": {},
   "source": [
    "## Number of use cases per project"
   ]
  },
  {
   "cell_type": "markdown",
   "metadata": {},
   "source": [
    "The number of user-level use cases taken into account (after rejecting one of the use cases in the project P26)"
   ]
  },
  {
   "cell_type": "code",
   "execution_count": 3,
   "metadata": {},
   "outputs": [
    {
     "data": {
      "text/html": [
       "<div>\n",
       "<style scoped>\n",
       "    .dataframe tbody tr th:only-of-type {\n",
       "        vertical-align: middle;\n",
       "    }\n",
       "\n",
       "    .dataframe tbody tr th {\n",
       "        vertical-align: top;\n",
       "    }\n",
       "\n",
       "    .dataframe thead th {\n",
       "        text-align: right;\n",
       "    }\n",
       "</style>\n",
       "<table border=\"1\" class=\"dataframe\">\n",
       "  <thead>\n",
       "    <tr style=\"text-align: right;\">\n",
       "      <th></th>\n",
       "      <th>UC</th>\n",
       "    </tr>\n",
       "    <tr>\n",
       "      <th>ProjectID</th>\n",
       "      <th></th>\n",
       "    </tr>\n",
       "  </thead>\n",
       "  <tbody>\n",
       "    <tr>\n",
       "      <th>P01</th>\n",
       "      <td>42</td>\n",
       "    </tr>\n",
       "    <tr>\n",
       "      <th>P02</th>\n",
       "      <td>17</td>\n",
       "    </tr>\n",
       "    <tr>\n",
       "      <th>P03</th>\n",
       "      <td>36</td>\n",
       "    </tr>\n",
       "    <tr>\n",
       "      <th>P04</th>\n",
       "      <td>23</td>\n",
       "    </tr>\n",
       "    <tr>\n",
       "      <th>P05</th>\n",
       "      <td>19</td>\n",
       "    </tr>\n",
       "    <tr>\n",
       "      <th>P06</th>\n",
       "      <td>26</td>\n",
       "    </tr>\n",
       "    <tr>\n",
       "      <th>P07</th>\n",
       "      <td>13</td>\n",
       "    </tr>\n",
       "    <tr>\n",
       "      <th>P08</th>\n",
       "      <td>8</td>\n",
       "    </tr>\n",
       "    <tr>\n",
       "      <th>P09</th>\n",
       "      <td>13</td>\n",
       "    </tr>\n",
       "    <tr>\n",
       "      <th>P10</th>\n",
       "      <td>9</td>\n",
       "    </tr>\n",
       "    <tr>\n",
       "      <th>P11</th>\n",
       "      <td>10</td>\n",
       "    </tr>\n",
       "    <tr>\n",
       "      <th>P12</th>\n",
       "      <td>11</td>\n",
       "    </tr>\n",
       "    <tr>\n",
       "      <th>P13</th>\n",
       "      <td>12</td>\n",
       "    </tr>\n",
       "    <tr>\n",
       "      <th>P14</th>\n",
       "      <td>13</td>\n",
       "    </tr>\n",
       "    <tr>\n",
       "      <th>P15</th>\n",
       "      <td>14</td>\n",
       "    </tr>\n",
       "    <tr>\n",
       "      <th>P16</th>\n",
       "      <td>7</td>\n",
       "    </tr>\n",
       "    <tr>\n",
       "      <th>P17</th>\n",
       "      <td>6</td>\n",
       "    </tr>\n",
       "    <tr>\n",
       "      <th>P18</th>\n",
       "      <td>18</td>\n",
       "    </tr>\n",
       "    <tr>\n",
       "      <th>P19</th>\n",
       "      <td>31</td>\n",
       "    </tr>\n",
       "    <tr>\n",
       "      <th>P20</th>\n",
       "      <td>11</td>\n",
       "    </tr>\n",
       "    <tr>\n",
       "      <th>P21</th>\n",
       "      <td>19</td>\n",
       "    </tr>\n",
       "    <tr>\n",
       "      <th>P22</th>\n",
       "      <td>25</td>\n",
       "    </tr>\n",
       "    <tr>\n",
       "      <th>P23</th>\n",
       "      <td>9</td>\n",
       "    </tr>\n",
       "    <tr>\n",
       "      <th>P24</th>\n",
       "      <td>10</td>\n",
       "    </tr>\n",
       "    <tr>\n",
       "      <th>P25</th>\n",
       "      <td>10</td>\n",
       "    </tr>\n",
       "    <tr>\n",
       "      <th>P26</th>\n",
       "      <td>14</td>\n",
       "    </tr>\n",
       "    <tr>\n",
       "      <th>P27</th>\n",
       "      <td>11</td>\n",
       "    </tr>\n",
       "  </tbody>\n",
       "</table>\n",
       "</div>"
      ],
      "text/plain": [
       "           UC\n",
       "ProjectID    \n",
       "P01        42\n",
       "P02        17\n",
       "P03        36\n",
       "P04        23\n",
       "P05        19\n",
       "P06        26\n",
       "P07        13\n",
       "P08         8\n",
       "P09        13\n",
       "P10         9\n",
       "P11        10\n",
       "P12        11\n",
       "P13        12\n",
       "P14        13\n",
       "P15        14\n",
       "P16         7\n",
       "P17         6\n",
       "P18        18\n",
       "P19        31\n",
       "P20        11\n",
       "P21        19\n",
       "P22        25\n",
       "P23         9\n",
       "P24        10\n",
       "P25        10\n",
       "P26        14\n",
       "P27        11"
      ]
     },
     "execution_count": 3,
     "metadata": {},
     "output_type": "execute_result"
    }
   ],
   "source": [
    "use_cases_df.groupby(\"ProjectID\").count().loc[:, ['UC']]"
   ]
  },
  {
   "cell_type": "markdown",
   "metadata": {},
   "source": [
    "## Distributions of use-case size"
   ]
  },
  {
   "cell_type": "code",
   "execution_count": 8,
   "metadata": {},
   "outputs": [
    {
     "data": {
      "image/png": "[encoded data removed]",
      "text/plain": [
       "<Figure size 864x504 with 2 Axes>"
      ]
     },
     "metadata": {},
     "output_type": "display_data"
    }
   ],
   "source": [
    "fig = plt.figure(figsize=(12,7))\n",
    "\n",
    "boxprops = dict(linestyle='-', linewidth=1, color='k')\n",
    "medianprops = dict(linestyle='-', linewidth=4, color='black')\n",
    "flierprops = dict(marker='o', markerfacecolor='white', markersize=2,\n",
    "                  linestyle='none')\n",
    "\n",
    "ax = plt.subplot(211)\n",
    "bp = use_cases_df.boxplot(ax=ax, column=['Cfp'], by=['ProjectID'], showfliers=True,\n",
    "                            boxprops=boxprops,\n",
    "                            medianprops=medianprops, flierprops=flierprops, patch_artist=True)\n",
    "\n",
    "plt.suptitle('')\n",
    "ax.set_title(r'COSMIC functional size of use cases in the projects')\n",
    "ax.set_xlabel('Project')\n",
    "ax.set_ylabel('CFP')\n",
    "\n",
    "\n",
    "ax = plt.subplot(212)\n",
    "\n",
    "hist = use_cases_df.hist(ax=ax, column=['Cfp'], bins=30)\n",
    "\n",
    "plt.suptitle('')\n",
    "ax.set_title(r'COSMIC functional size of use cases')\n",
    "ax.set_xlabel('CFP')\n",
    "ax.set_ylabel('Frequency')\n",
    "ax.set_xticks(np.arange(0, 50, 1))\n",
    "\n",
    "\n",
    "plt.tight_layout()\n",
    "plt.savefig(f\"{output_folder}use-case-size.pdf\")\n",
    "plt.show()\n",
    "plt.close()"
   ]
  },
  {
   "cell_type": "code",
   "execution_count": 9,
   "metadata": {},
   "outputs": [
    {
     "data": {
      "text/plain": [
       "9.265446224256292"
      ]
     },
     "execution_count": 9,
     "metadata": {},
     "output_type": "execute_result"
    }
   ],
   "source": [
    "use_cases_df['Cfp'].mean()"
   ]
  },
  {
   "cell_type": "code",
   "execution_count": 11,
   "metadata": {},
   "outputs": [
    {
     "data": {
      "text/plain": [
       "6.281837850850034"
      ]
     },
     "execution_count": 11,
     "metadata": {},
     "output_type": "execute_result"
    }
   ],
   "source": [
    "use_cases_df['Cfp'].std()"
   ]
  },
  {
   "cell_type": "code",
   "execution_count": 12,
   "metadata": {},
   "outputs": [
    {
     "data": {
      "text/html": [
       "<div>\n",
       "<style scoped>\n",
       "    .dataframe tbody tr th:only-of-type {\n",
       "        vertical-align: middle;\n",
       "    }\n",
       "\n",
       "    .dataframe tbody tr th {\n",
       "        vertical-align: top;\n",
       "    }\n",
       "\n",
       "    .dataframe thead th {\n",
       "        text-align: right;\n",
       "    }\n",
       "</style>\n",
       "<table border=\"1\" class=\"dataframe\">\n",
       "  <thead>\n",
       "    <tr style=\"text-align: right;\">\n",
       "      <th></th>\n",
       "      <th>ProjectID</th>\n",
       "      <th>UC</th>\n",
       "      <th>TransTypes</th>\n",
       "      <th>UCType</th>\n",
       "      <th>Cfp</th>\n",
       "      <th>TitleTokens</th>\n",
       "    </tr>\n",
       "  </thead>\n",
       "  <tbody>\n",
       "    <tr>\n",
       "      <th>15</th>\n",
       "      <td>P01</td>\n",
       "      <td>UC2-2-11</td>\n",
       "      <td>C|D|DL|L</td>\n",
       "      <td>C|D|R|U</td>\n",
       "      <td>36</td>\n",
       "      <td>modify candidate 's payments</td>\n",
       "    </tr>\n",
       "    <tr>\n",
       "      <th>21</th>\n",
       "      <td>P01</td>\n",
       "      <td>UC2-3-7</td>\n",
       "      <td>DL|L|L</td>\n",
       "      <td>L</td>\n",
       "      <td>33</td>\n",
       "      <td>assign candidates exam rooms</td>\n",
       "    </tr>\n",
       "    <tr>\n",
       "      <th>31</th>\n",
       "      <td>P01</td>\n",
       "      <td>UC2-5-4</td>\n",
       "      <td>CS|CS|CS|R|R</td>\n",
       "      <td>CS</td>\n",
       "      <td>40</td>\n",
       "      <td>accept candidates</td>\n",
       "    </tr>\n",
       "    <tr>\n",
       "      <th>239</th>\n",
       "      <td>P03</td>\n",
       "      <td>PU-SCMS-ZK-10</td>\n",
       "      <td>L|L|R</td>\n",
       "      <td>L</td>\n",
       "      <td>43</td>\n",
       "      <td>add card profile edit card profile</td>\n",
       "    </tr>\n",
       "    <tr>\n",
       "      <th>245</th>\n",
       "      <td>P03</td>\n",
       "      <td>PU-SCMS-ZK-19</td>\n",
       "      <td>L|L|R</td>\n",
       "      <td>L</td>\n",
       "      <td>32</td>\n",
       "      <td>define new theme card edit theme card</td>\n",
       "    </tr>\n",
       "  </tbody>\n",
       "</table>\n",
       "</div>"
      ],
      "text/plain": [
       "    ProjectID              UC    TransTypes   UCType  Cfp  \\\n",
       "15        P01        UC2-2-11      C|D|DL|L  C|D|R|U   36   \n",
       "21        P01         UC2-3-7        DL|L|L        L   33   \n",
       "31        P01         UC2-5-4  CS|CS|CS|R|R       CS   40   \n",
       "239       P03  PU-SCMS-ZK-10          L|L|R        L   43   \n",
       "245       P03   PU-SCMS-ZK-19         L|L|R        L   32   \n",
       "\n",
       "                               TitleTokens  \n",
       "15            modify candidate 's payments  \n",
       "21            assign candidates exam rooms  \n",
       "31                       accept candidates  \n",
       "239     add card profile edit card profile  \n",
       "245  define new theme card edit theme card  "
      ]
     },
     "execution_count": 12,
     "metadata": {},
     "output_type": "execute_result"
    }
   ],
   "source": [
    "use_cases_df[use_cases_df['Cfp'] > 30]"
   ]
  },
  {
   "cell_type": "code",
   "execution_count": 16,
   "metadata": {},
   "outputs": [
    {
     "data": {
      "text/plain": [
       "7.0"
      ]
     },
     "execution_count": 16,
     "metadata": {},
     "output_type": "execute_result"
    }
   ],
   "source": [
    "np.percentile(use_cases_df['Cfp'], 50)"
   ]
  },
  {
   "cell_type": "code",
   "execution_count": 18,
   "metadata": {},
   "outputs": [
    {
     "data": {
      "text/plain": [
       "8.55963647566176"
      ]
     },
     "execution_count": 18,
     "metadata": {},
     "output_type": "execute_result"
    }
   ],
   "source": [
    "use_cases_df.groupby('ProjectID').mean()['Cfp'].mean()"
   ]
  },
  {
   "cell_type": "code",
   "execution_count": 19,
   "metadata": {},
   "outputs": [
    {
     "data": {
      "text/plain": [
       "2.723069530151267"
      ]
     },
     "execution_count": 19,
     "metadata": {},
     "output_type": "execute_result"
    }
   ],
   "source": [
    "use_cases_df.groupby('ProjectID').mean()['Cfp'].std()"
   ]
  }
 ],
 "metadata": {
  "kernelspec": {
   "display_name": "Python3 ML-GPU",
   "language": "python",
   "name": "ml"
  },
  "language_info": {
   "codemirror_mode": {
    "name": "ipython",
    "version": 3
   },
   "file_extension": ".py",
   "mimetype": "text/x-python",
   "name": "python",
   "nbconvert_exporter": "python",
   "pygments_lexer": "ipython3",
   "version": "3.6.6"
  }
 },
 "nbformat": 4,
 "nbformat_minor": 2
}
