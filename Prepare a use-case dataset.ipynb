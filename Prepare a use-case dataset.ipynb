{
 "cells": [
  {
   "cell_type": "markdown",
   "metadata": {},
   "source": [
    "# Prepare a use-case dataset"
   ]
  },
  {
   "cell_type": "markdown",
   "metadata": {},
   "source": [
    "In this notebook, we load the original use-case names and their COSMIC size to produce a dataset that could be published without revealing confidential information.\n",
    "\n",
    "The original input file is not provided in this replication package."
   ]
  },
  {
   "cell_type": "markdown",
   "metadata": {},
   "source": [
    "## Imports"
   ]
  },
  {
   "cell_type": "code",
   "execution_count": 28,
   "metadata": {},
   "outputs": [],
   "source": [
    "import pandas as pd\n",
    "\n",
    "import spacy\n",
    "from spacy.symbols import ORTH, LEMMA, POS, TAG, LOWER\n",
    "\n",
    "from paths import input_folder"
   ]
  },
  {
   "cell_type": "markdown",
   "metadata": {},
   "source": [
    "## Load original data"
   ]
  },
  {
   "cell_type": "code",
   "execution_count": 29,
   "metadata": {},
   "outputs": [],
   "source": [
    "use_cases_raw_df = pd.read_csv(f\"{input_folder}use-cases-raw.csv\", index_col=0)"
   ]
  },
  {
   "cell_type": "markdown",
   "metadata": {},
   "source": [
    "## Transform the data"
   ]
  },
  {
   "cell_type": "code",
   "execution_count": 30,
   "metadata": {},
   "outputs": [],
   "source": [
    "nlp = spacy.load('en_core_web_lg')\n",
    "\n",
    "stop_words = spacy.lang.en.stop_words.STOP_WORDS\n",
    "filters='!\"#$%&()*+,-./:;<=>?@[\\\\]^_`{|}~\\t\\n'"
   ]
  },
  {
   "cell_type": "code",
   "execution_count": 31,
   "metadata": {},
   "outputs": [],
   "source": [
    "titles = []\n",
    "verbs = set()\n",
    "for text in use_cases_raw_df['TitleTranslated']:\n",
    "    doc = nlp(text)\n",
    "    tokens = \" \".join([token.lower_ for token in doc if not token.orth_.isspace() and not token.orth_ in filters and not token.orth_ in stop_words])\n",
    "    verbs = verbs | set([token.lemma_ for token in doc if token.pos_ == \"VERB\"])\n",
    "    titles.append(tokens)"
   ]
  },
  {
   "cell_type": "code",
   "execution_count": 32,
   "metadata": {},
   "outputs": [],
   "source": [
    "use_cases_df = use_cases_raw_df.drop(columns=['TitleTranslated'])"
   ]
  },
  {
   "cell_type": "code",
   "execution_count": 33,
   "metadata": {},
   "outputs": [],
   "source": [
    "use_cases_df['TitleTokens'] = titles"
   ]
  },
  {
   "cell_type": "code",
   "execution_count": 34,
   "metadata": {},
   "outputs": [
    {
     "data": {
      "text/html": [
       "<div>\n",
       "<style scoped>\n",
       "    .dataframe tbody tr th:only-of-type {\n",
       "        vertical-align: middle;\n",
       "    }\n",
       "\n",
       "    .dataframe tbody tr th {\n",
       "        vertical-align: top;\n",
       "    }\n",
       "\n",
       "    .dataframe thead th {\n",
       "        text-align: right;\n",
       "    }\n",
       "</style>\n",
       "<table border=\"1\" class=\"dataframe\">\n",
       "  <thead>\n",
       "    <tr style=\"text-align: right;\">\n",
       "      <th></th>\n",
       "      <th>ProjectID</th>\n",
       "      <th>UC</th>\n",
       "      <th>TransTypes</th>\n",
       "      <th>UCType</th>\n",
       "      <th>Cfp</th>\n",
       "      <th>TitleTokens</th>\n",
       "    </tr>\n",
       "  </thead>\n",
       "  <tbody>\n",
       "    <tr>\n",
       "      <th>0</th>\n",
       "      <td>P01</td>\n",
       "      <td>UC2-1-1</td>\n",
       "      <td>C|D|R|U</td>\n",
       "      <td>C|D|R|U</td>\n",
       "      <td>16</td>\n",
       "      <td>manage faculties crud</td>\n",
       "    </tr>\n",
       "    <tr>\n",
       "      <th>1</th>\n",
       "      <td>P01</td>\n",
       "      <td>UC2-1-10</td>\n",
       "      <td>DL|L|R</td>\n",
       "      <td>L</td>\n",
       "      <td>27</td>\n",
       "      <td>assign science olympiads major specialty edit ...</td>\n",
       "    </tr>\n",
       "    <tr>\n",
       "      <th>2</th>\n",
       "      <td>P01</td>\n",
       "      <td>UC2-1-11</td>\n",
       "      <td>CS|R</td>\n",
       "      <td>CS</td>\n",
       "      <td>7</td>\n",
       "      <td>manage ranking algorithms</td>\n",
       "    </tr>\n",
       "    <tr>\n",
       "      <th>3</th>\n",
       "      <td>P01</td>\n",
       "      <td>UC2-1-13</td>\n",
       "      <td>C|D|R|U</td>\n",
       "      <td>C|D|R|U</td>\n",
       "      <td>17</td>\n",
       "      <td>manage exams crud</td>\n",
       "    </tr>\n",
       "    <tr>\n",
       "      <th>4</th>\n",
       "      <td>P01</td>\n",
       "      <td>UC2-1-14</td>\n",
       "      <td>DL|L|R</td>\n",
       "      <td>L</td>\n",
       "      <td>27</td>\n",
       "      <td>manage assignments exams majors specialties</td>\n",
       "    </tr>\n",
       "    <tr>\n",
       "      <th>5</th>\n",
       "      <td>P01</td>\n",
       "      <td>UC2-1-16</td>\n",
       "      <td>C|D|R|U</td>\n",
       "      <td>C|D|R|U</td>\n",
       "      <td>18</td>\n",
       "      <td>manage courses crud</td>\n",
       "    </tr>\n",
       "    <tr>\n",
       "      <th>6</th>\n",
       "      <td>P01</td>\n",
       "      <td>UC2-1-18</td>\n",
       "      <td>DL|L|R</td>\n",
       "      <td>L</td>\n",
       "      <td>27</td>\n",
       "      <td>manage assignments courses majors specialties</td>\n",
       "    </tr>\n",
       "    <tr>\n",
       "      <th>7</th>\n",
       "      <td>P01</td>\n",
       "      <td>UC2-1-19</td>\n",
       "      <td>C|D|R|U|U</td>\n",
       "      <td>C|D|R|U</td>\n",
       "      <td>25</td>\n",
       "      <td>manage grading scales crud</td>\n",
       "    </tr>\n",
       "    <tr>\n",
       "      <th>8</th>\n",
       "      <td>P01</td>\n",
       "      <td>UC2-1-2</td>\n",
       "      <td>C|D|R|U</td>\n",
       "      <td>C|D|R|U</td>\n",
       "      <td>20</td>\n",
       "      <td>manage admissions crud</td>\n",
       "    </tr>\n",
       "    <tr>\n",
       "      <th>9</th>\n",
       "      <td>P01</td>\n",
       "      <td>UC2-1-20</td>\n",
       "      <td>L|R</td>\n",
       "      <td>L</td>\n",
       "      <td>18</td>\n",
       "      <td>manage assignments ranking algorithms majors s...</td>\n",
       "    </tr>\n",
       "  </tbody>\n",
       "</table>\n",
       "</div>"
      ],
      "text/plain": [
       "  ProjectID        UC TransTypes   UCType  Cfp  \\\n",
       "0       P01   UC2-1-1    C|D|R|U  C|D|R|U   16   \n",
       "1       P01  UC2-1-10     DL|L|R        L   27   \n",
       "2       P01  UC2-1-11       CS|R       CS    7   \n",
       "3       P01  UC2-1-13    C|D|R|U  C|D|R|U   17   \n",
       "4       P01  UC2-1-14     DL|L|R        L   27   \n",
       "5       P01  UC2-1-16    C|D|R|U  C|D|R|U   18   \n",
       "6       P01  UC2-1-18     DL|L|R        L   27   \n",
       "7       P01  UC2-1-19  C|D|R|U|U  C|D|R|U   25   \n",
       "8       P01   UC2-1-2    C|D|R|U  C|D|R|U   20   \n",
       "9       P01  UC2-1-20        L|R        L   18   \n",
       "\n",
       "                                         TitleTokens  \n",
       "0                              manage faculties crud  \n",
       "1  assign science olympiads major specialty edit ...  \n",
       "2                          manage ranking algorithms  \n",
       "3                                  manage exams crud  \n",
       "4        manage assignments exams majors specialties  \n",
       "5                                manage courses crud  \n",
       "6      manage assignments courses majors specialties  \n",
       "7                         manage grading scales crud  \n",
       "8                             manage admissions crud  \n",
       "9  manage assignments ranking algorithms majors s...  "
      ]
     },
     "execution_count": 34,
     "metadata": {},
     "output_type": "execute_result"
    }
   ],
   "source": [
    "use_cases_df.head(10)"
   ]
  },
  {
   "cell_type": "code",
   "execution_count": 35,
   "metadata": {},
   "outputs": [
    {
     "data": {
      "text/html": [
       "<div>\n",
       "<style scoped>\n",
       "    .dataframe tbody tr th:only-of-type {\n",
       "        vertical-align: middle;\n",
       "    }\n",
       "\n",
       "    .dataframe tbody tr th {\n",
       "        vertical-align: top;\n",
       "    }\n",
       "\n",
       "    .dataframe thead th {\n",
       "        text-align: right;\n",
       "    }\n",
       "</style>\n",
       "<table border=\"1\" class=\"dataframe\">\n",
       "  <thead>\n",
       "    <tr style=\"text-align: right;\">\n",
       "      <th></th>\n",
       "      <th>verb</th>\n",
       "    </tr>\n",
       "  </thead>\n",
       "  <tbody>\n",
       "    <tr>\n",
       "      <th>0</th>\n",
       "      <td>add</td>\n",
       "    </tr>\n",
       "    <tr>\n",
       "      <th>1</th>\n",
       "      <td>base</td>\n",
       "    </tr>\n",
       "    <tr>\n",
       "      <th>2</th>\n",
       "      <td>remind</td>\n",
       "    </tr>\n",
       "    <tr>\n",
       "      <th>3</th>\n",
       "      <td>attend</td>\n",
       "    </tr>\n",
       "    <tr>\n",
       "      <th>4</th>\n",
       "      <td>settle</td>\n",
       "    </tr>\n",
       "    <tr>\n",
       "      <th>5</th>\n",
       "      <td>lock</td>\n",
       "    </tr>\n",
       "    <tr>\n",
       "      <th>6</th>\n",
       "      <td>give</td>\n",
       "    </tr>\n",
       "    <tr>\n",
       "      <th>7</th>\n",
       "      <td>import</td>\n",
       "    </tr>\n",
       "    <tr>\n",
       "      <th>8</th>\n",
       "      <td>search</td>\n",
       "    </tr>\n",
       "    <tr>\n",
       "      <th>9</th>\n",
       "      <td>effort</td>\n",
       "    </tr>\n",
       "  </tbody>\n",
       "</table>\n",
       "</div>"
      ],
      "text/plain": [
       "     verb\n",
       "0     add\n",
       "1    base\n",
       "2  remind\n",
       "3  attend\n",
       "4  settle\n",
       "5    lock\n",
       "6    give\n",
       "7  import\n",
       "8  search\n",
       "9  effort"
      ]
     },
     "execution_count": 35,
     "metadata": {},
     "output_type": "execute_result"
    }
   ],
   "source": [
    "verbs_df = pd.DataFrame({'verb':list(verbs)})\n",
    "verbs_df.head(10)"
   ]
  },
  {
   "cell_type": "markdown",
   "metadata": {},
   "source": [
    "## Save data"
   ]
  },
  {
   "cell_type": "code",
   "execution_count": 36,
   "metadata": {},
   "outputs": [],
   "source": [
    "use_cases_df.to_csv(f\"{input_folder}use-cases.csv\")"
   ]
  },
  {
   "cell_type": "code",
   "execution_count": 37,
   "metadata": {},
   "outputs": [],
   "source": [
    "verbs_df.to_csv(f\"{input_folder}verbs.csv\")"
   ]
  }
 ],
 "metadata": {
  "kernelspec": {
   "display_name": "Python3 ML-GPU",
   "language": "python",
   "name": "ml"
  },
  "language_info": {
   "codemirror_mode": {
    "name": "ipython",
    "version": 3
   },
   "file_extension": ".py",
   "mimetype": "text/x-python",
   "name": "python",
   "nbconvert_exporter": "python",
   "pygments_lexer": "ipython3",
   "version": "3.6.6"
  }
 },
 "nbformat": 4,
 "nbformat_minor": 2
}
