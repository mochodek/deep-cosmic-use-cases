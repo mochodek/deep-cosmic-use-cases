{
 "cells": [
  {
   "cell_type": "markdown",
   "metadata": {},
   "source": [
    "# Validation - Summary of the results"
   ]
  },
  {
   "cell_type": "markdown",
   "metadata": {},
   "source": [
    "This notebook summarizes the results (e.g., generates tables, plots)"
   ]
  },
  {
   "cell_type": "markdown",
   "metadata": {},
   "source": [
    "## Imports"
   ]
  },
  {
   "cell_type": "code",
   "execution_count": 145,
   "metadata": {},
   "outputs": [
    {
     "name": "stderr",
     "output_type": "stream",
     "text": [
      "Registered S3 methods overwritten by 'ggplot2':\n",
      "  method         from \n",
      "  [.quosures     rlang\n",
      "  c.quosures     rlang\n",
      "  print.quosures rlang\n"
     ]
    }
   ],
   "source": [
    "library(dplyr)\n",
    "require(xlsx)\n",
    "require(BaylorEdPsych)\n",
    "require(effsize)\n",
    "library(knitr)\n",
    "library(kableExtra)\n",
    "library(tidyr)\n",
    "library(ggplot2)"
   ]
  },
  {
   "cell_type": "markdown",
   "metadata": {},
   "source": [
    "## Load data"
   ]
  },
  {
   "cell_type": "code",
   "execution_count": 2,
   "metadata": {},
   "outputs": [],
   "source": [
    "marp0 <- read.csv(file=\"./output/validation-marp0.csv\", header=TRUE,stringsAsFactors=FALSE, row.names=1)[1,1]"
   ]
  },
  {
   "cell_type": "code",
   "execution_count": 11,
   "metadata": {},
   "outputs": [],
   "source": [
    "auc_res <- read.xlsx(file='./output/validation-auc.xlsx', sheetIndex = 1)"
   ]
  },
  {
   "cell_type": "code",
   "execution_count": 47,
   "metadata": {},
   "outputs": [],
   "source": [
    "aucg_res <- read.csv(file='./output/validation-aucg.csv')"
   ]
  },
  {
   "cell_type": "code",
   "execution_count": 56,
   "metadata": {},
   "outputs": [],
   "source": [
    "bnucg_res <- read.csv(file='./output/validation-bnucg.csv')"
   ]
  },
  {
   "cell_type": "code",
   "execution_count": 15,
   "metadata": {},
   "outputs": [],
   "source": [
    "deep_wiki300_res <- read.xlsx('./output/validation-deep-cosmic-uc-wiki300.xlsx', sheetIndex=1)"
   ]
  },
  {
   "cell_type": "code",
   "execution_count": 17,
   "metadata": {},
   "outputs": [],
   "source": [
    "deep_cc42b_res <- read.xlsx('./output/validation-deep-cosmic-uc-cc42b.xlsx', sheetIndex=1)"
   ]
  },
  {
   "cell_type": "code",
   "execution_count": 18,
   "metadata": {},
   "outputs": [],
   "source": [
    "deep_cc840b_res <- read.xlsx('./output/validation-deep-cosmic-uc-cc840b.xlsx', sheetIndex=1)"
   ]
  },
  {
   "cell_type": "code",
   "execution_count": 19,
   "metadata": {},
   "outputs": [],
   "source": [
    "deep_se200_res <- read.xlsx('./output/validation-deep-cosmic-uc-se200.xlsx', sheetIndex=1)"
   ]
  },
  {
   "cell_type": "code",
   "execution_count": 61,
   "metadata": {},
   "outputs": [],
   "source": [
    "model_names <- c('AUC', 'AUCG', 'BN-UCGAIN', 'DEEP-COSMIC-UC (Common Crawl 840B)', \n",
    "                 'DEEP-COSMIC-UC (Common Crawl 42B)', 'DEEP-COSMIC-UC (Stack Overflow)', \n",
    "                 'DEEP-COSMIC-UC (Wikipedia+Gigaworld)')\n",
    "pred_results <- list(auc_res, aucg_res, bnucg_res, deep_cc840b_res, deep_cc42b_res, deep_se200_res, deep_wiki300_res)\n"
   ]
  },
  {
   "cell_type": "markdown",
   "metadata": {},
   "source": [
    "## Helpers"
   ]
  },
  {
   "cell_type": "code",
   "execution_count": 21,
   "metadata": {},
   "outputs": [],
   "source": [
    "# MAR mean absolute residual\n",
    "# vector of ARs\n",
    "mar <- function(ars){\n",
    "  ars <- as.vector(ars)\n",
    "  mar <- sum(ars) / length(ars)\n",
    "  return(mar)\n",
    "}\n",
    "\n",
    "sa <- function(mar, mar_P0){\n",
    "  sa <- (1 - (mar / mar_P0)) * 100\n",
    "  return(sa)\n",
    "}\n",
    "\n",
    "glass_effect_size <- function(mar, mar_P0, s_P0){\n",
    "  glass_effect_size <- (mar-mar_P0) / s_P0\n",
    "  return(glass_effect_size)\n",
    "}\n",
    "\n",
    "heges_g_effect_size <- function(ar, ar_P0){\n",
    "  heges_g_effect_size <- as.numeric(HedgesG.rawData(ar,ar_P0))\n",
    "  return(heges_g_effect_size)\n",
    "}\n",
    "\n",
    "cliffs_delta_effect_size <- function(ar, ar_P0){\n",
    "  cliffs_delta_effect_size <- as.numeric(cliff.delta(ar,ar_P0, return.dm=F)$estimate) \n",
    "  return(cliffs_delta_effect_size)\n",
    "}"
   ]
  },
  {
   "cell_type": "markdown",
   "metadata": {},
   "source": [
    "## Improvement over Random Guessing"
   ]
  },
  {
   "cell_type": "code",
   "execution_count": 62,
   "metadata": {},
   "outputs": [],
   "source": [
    "improvement_random <- c()\n",
    "for (pred_res in pred_results){\n",
    "    improvement_random <- c(improvement_random, sa(mean(pred_res$ar), marp0))\n",
    "}"
   ]
  },
  {
   "cell_type": "code",
   "execution_count": 63,
   "metadata": {},
   "outputs": [
    {
     "data": {
      "text/html": [
       "<table>\n",
       "<caption>A data.frame: 7 × 2</caption>\n",
       "<thead>\n",
       "\t<tr><th scope=col>model_names</th><th scope=col>improvement_random</th></tr>\n",
       "\t<tr><th scope=col>&lt;fct&gt;</th><th scope=col>&lt;dbl&gt;</th></tr>\n",
       "</thead>\n",
       "<tbody>\n",
       "\t<tr><td>AUC                                 </td><td>25.63920</td></tr>\n",
       "\t<tr><td>AUCG                                </td><td>38.44964</td></tr>\n",
       "\t<tr><td>BN-UCGAIN                           </td><td>40.83139</td></tr>\n",
       "\t<tr><td>DEEP-COSMIC-UC (Common Crawl 840B)  </td><td>45.01598</td></tr>\n",
       "\t<tr><td>DEEP-COSMIC-UC (Common Crawl 42B)   </td><td>44.70470</td></tr>\n",
       "\t<tr><td>DEEP-COSMIC-UC (Stack Overflow)     </td><td>43.56393</td></tr>\n",
       "\t<tr><td>DEEP-COSMIC-UC (Wikipedia+Gigaworld)</td><td>45.32951</td></tr>\n",
       "</tbody>\n",
       "</table>\n"
      ],
      "text/latex": [
       "A data.frame: 7 × 2\n",
       "\\begin{tabular}{r|ll}\n",
       " model\\_names & improvement\\_random\\\\\n",
       " <fct> & <dbl>\\\\\n",
       "\\hline\n",
       "\t AUC                                  & 25.63920\\\\\n",
       "\t AUCG                                 & 38.44964\\\\\n",
       "\t BN-UCGAIN                            & 40.83139\\\\\n",
       "\t DEEP-COSMIC-UC (Common Crawl 840B)   & 45.01598\\\\\n",
       "\t DEEP-COSMIC-UC (Common Crawl 42B)    & 44.70470\\\\\n",
       "\t DEEP-COSMIC-UC (Stack Overflow)      & 43.56393\\\\\n",
       "\t DEEP-COSMIC-UC (Wikipedia+Gigaworld) & 45.32951\\\\\n",
       "\\end{tabular}\n"
      ],
      "text/markdown": [
       "\n",
       "A data.frame: 7 × 2\n",
       "\n",
       "| model_names &lt;fct&gt; | improvement_random &lt;dbl&gt; |\n",
       "|---|---|\n",
       "| AUC                                  | 25.63920 |\n",
       "| AUCG                                 | 38.44964 |\n",
       "| BN-UCGAIN                            | 40.83139 |\n",
       "| DEEP-COSMIC-UC (Common Crawl 840B)   | 45.01598 |\n",
       "| DEEP-COSMIC-UC (Common Crawl 42B)    | 44.70470 |\n",
       "| DEEP-COSMIC-UC (Stack Overflow)      | 43.56393 |\n",
       "| DEEP-COSMIC-UC (Wikipedia+Gigaworld) | 45.32951 |\n",
       "\n"
      ],
      "text/plain": [
       "  model_names                          improvement_random\n",
       "1 AUC                                  25.63920          \n",
       "2 AUCG                                 38.44964          \n",
       "3 BN-UCGAIN                            40.83139          \n",
       "4 DEEP-COSMIC-UC (Common Crawl 840B)   45.01598          \n",
       "5 DEEP-COSMIC-UC (Common Crawl 42B)    44.70470          \n",
       "6 DEEP-COSMIC-UC (Stack Overflow)      43.56393          \n",
       "7 DEEP-COSMIC-UC (Wikipedia+Gigaworld) 45.32951          "
      ]
     },
     "metadata": {},
     "output_type": "display_data"
    }
   ],
   "source": [
    "improvement_random_df <- data.frame(model_names, improvement_random)\n",
    "improvement_random_df"
   ]
  },
  {
   "cell_type": "markdown",
   "metadata": {},
   "source": [
    "## Statistical inference testing"
   ]
  },
  {
   "cell_type": "markdown",
   "metadata": {},
   "source": [
    "Let's start with checking the normality assumption"
   ]
  },
  {
   "cell_type": "code",
   "execution_count": 64,
   "metadata": {},
   "outputs": [
    {
     "data": {
      "text/html": [
       "<strong>$p.value</strong> = 3.96767646934476e-67"
      ],
      "text/latex": [
       "\\textbf{\\$p.value} = 3.96767646934476e-67"
      ],
      "text/markdown": [
       "**$p.value** = 3.96767646934476e-67"
      ],
      "text/plain": [
       "$p.value\n",
       "[1] 3.967676e-67\n"
      ]
     },
     "metadata": {},
     "output_type": "display_data"
    }
   ],
   "source": [
    "shapiro.test(deep_wiki300_res$ar)[\"p.value\"]"
   ]
  },
  {
   "cell_type": "code",
   "execution_count": 65,
   "metadata": {},
   "outputs": [
    {
     "data": {
      "text/html": [
       "<strong>$p.value</strong> = 5.24453328284937e-63"
      ],
      "text/latex": [
       "\\textbf{\\$p.value} = 5.24453328284937e-63"
      ],
      "text/markdown": [
       "**$p.value** = 5.24453328284937e-63"
      ],
      "text/plain": [
       "$p.value\n",
       "[1] 5.244533e-63\n"
      ]
     },
     "metadata": {},
     "output_type": "display_data"
    }
   ],
   "source": [
    "shapiro.test(auc_res$ar)[\"p.value\"]"
   ]
  },
  {
   "cell_type": "code",
   "execution_count": 66,
   "metadata": {},
   "outputs": [
    {
     "data": {
      "text/html": [
       "<strong>$p.value</strong> = 2.07405380192794e-63"
      ],
      "text/latex": [
       "\\textbf{\\$p.value} = 2.07405380192794e-63"
      ],
      "text/markdown": [
       "**$p.value** = 2.07405380192794e-63"
      ],
      "text/plain": [
       "$p.value\n",
       "[1] 2.074054e-63\n"
      ]
     },
     "metadata": {},
     "output_type": "display_data"
    }
   ],
   "source": [
    "shapiro.test(aucg_res$ar)[\"p.value\"]"
   ]
  },
  {
   "cell_type": "code",
   "execution_count": 67,
   "metadata": {},
   "outputs": [
    {
     "data": {
      "text/html": [
       "<strong>$p.value</strong> = 5.57701003828833e-65"
      ],
      "text/latex": [
       "\\textbf{\\$p.value} = 5.57701003828833e-65"
      ],
      "text/markdown": [
       "**$p.value** = 5.57701003828833e-65"
      ],
      "text/plain": [
       "$p.value\n",
       "[1] 5.57701e-65\n"
      ]
     },
     "metadata": {},
     "output_type": "display_data"
    }
   ],
   "source": [
    "shapiro.test(bnucg_res$ar)[\"p.value\"]"
   ]
  },
  {
   "cell_type": "markdown",
   "metadata": {},
   "source": [
    "There is a strong evidence against normality"
   ]
  },
  {
   "cell_type": "code",
   "execution_count": 68,
   "metadata": {},
   "outputs": [
    {
     "data": {
      "text/html": [
       "<strong>$p.value</strong> = 1.34132944255644e-168"
      ],
      "text/latex": [
       "\\textbf{\\$p.value} = 1.34132944255644e-168"
      ],
      "text/markdown": [
       "**$p.value** = 1.34132944255644e-168"
      ],
      "text/plain": [
       "$p.value\n",
       "[1] 1.341329e-168\n"
      ]
     },
     "metadata": {},
     "output_type": "display_data"
    }
   ],
   "source": [
    "# Is DEEP-COSMIC-UC better than AUC?\n",
    "wilcox.test(deep_wiki300_res$ar, auc_res$ar, paired=T, alternative=\"less\")[\"p.value\"]"
   ]
  },
  {
   "cell_type": "code",
   "execution_count": 69,
   "metadata": {},
   "outputs": [
    {
     "data": {
      "text/html": [
       "<strong>$p.value</strong> = 1.68886638053608e-39"
      ],
      "text/latex": [
       "\\textbf{\\$p.value} = 1.68886638053608e-39"
      ],
      "text/markdown": [
       "**$p.value** = 1.68886638053608e-39"
      ],
      "text/plain": [
       "$p.value\n",
       "[1] 1.688866e-39\n"
      ]
     },
     "metadata": {},
     "output_type": "display_data"
    }
   ],
   "source": [
    "# Is DEEP-COSMIC-UC better than AUCG?\n",
    "wilcox.test(deep_wiki300_res$ar, aucg_res$ar, paired=T, alternative=\"less\")[\"p.value\"]"
   ]
  },
  {
   "cell_type": "code",
   "execution_count": 70,
   "metadata": {},
   "outputs": [
    {
     "data": {
      "text/html": [
       "<strong>$p.value</strong> = 8.06485267181342e-22"
      ],
      "text/latex": [
       "\\textbf{\\$p.value} = 8.06485267181342e-22"
      ],
      "text/markdown": [
       "**$p.value** = 8.06485267181342e-22"
      ],
      "text/plain": [
       "$p.value\n",
       "[1] 8.064853e-22\n"
      ]
     },
     "metadata": {},
     "output_type": "display_data"
    }
   ],
   "source": [
    "# Is DEEP-COSMIC-UC better than BN-UCGAIN?\n",
    "wilcox.test(deep_wiki300_res$ar, bnucg_res$ar, paired=T, alternative=\"less\")[\"p.value\"]"
   ]
  },
  {
   "cell_type": "markdown",
   "metadata": {},
   "source": [
    "## Cliff's delta"
   ]
  },
  {
   "cell_type": "code",
   "execution_count": 71,
   "metadata": {},
   "outputs": [
    {
     "data": {
      "text/html": [
       "-0.301515952850986"
      ],
      "text/latex": [
       "-0.301515952850986"
      ],
      "text/markdown": [
       "-0.301515952850986"
      ],
      "text/plain": [
       "[1] -0.301516"
      ]
     },
     "metadata": {},
     "output_type": "display_data"
    }
   ],
   "source": [
    "cliffs_delta_effect_size(deep_wiki300_res$ar, auc_res$ar)"
   ]
  },
  {
   "cell_type": "code",
   "execution_count": 72,
   "metadata": {},
   "outputs": [
    {
     "data": {
      "text/html": [
       "-0.14772659436872"
      ],
      "text/latex": [
       "-0.14772659436872"
      ],
      "text/markdown": [
       "-0.14772659436872"
      ],
      "text/plain": [
       "[1] -0.1477266"
      ]
     },
     "metadata": {},
     "output_type": "display_data"
    }
   ],
   "source": [
    "cliffs_delta_effect_size(deep_wiki300_res$ar, aucg_res$ar)"
   ]
  },
  {
   "cell_type": "code",
   "execution_count": 73,
   "metadata": {},
   "outputs": [
    {
     "data": {
      "text/html": [
       "-0.100302143279799"
      ],
      "text/latex": [
       "-0.100302143279799"
      ],
      "text/markdown": [
       "-0.100302143279799"
      ],
      "text/plain": [
       "[1] -0.1003021"
      ]
     },
     "metadata": {},
     "output_type": "display_data"
    }
   ],
   "source": [
    "cliffs_delta_effect_size(deep_wiki300_res$ar, bnucg_res$ar)"
   ]
  },
  {
   "cell_type": "markdown",
   "metadata": {},
   "source": [
    "## NNT"
   ]
  },
  {
   "cell_type": "code",
   "execution_count": 75,
   "metadata": {},
   "outputs": [
    {
     "data": {
      "text/html": [
       "3.3165741001247"
      ],
      "text/latex": [
       "3.3165741001247"
      ],
      "text/markdown": [
       "3.3165741001247"
      ],
      "text/plain": [
       "[1] 3.316574"
      ]
     },
     "metadata": {},
     "output_type": "display_data"
    }
   ],
   "source": [
    "1/abs(cliffs_delta_effect_size(deep_wiki300_res$ar, auc_res$ar))"
   ]
  },
  {
   "cell_type": "code",
   "execution_count": 76,
   "metadata": {},
   "outputs": [
    {
     "data": {
      "text/html": [
       "6.76926185344828"
      ],
      "text/latex": [
       "6.76926185344828"
      ],
      "text/markdown": [
       "6.76926185344828"
      ],
      "text/plain": [
       "[1] 6.769262"
      ]
     },
     "metadata": {},
     "output_type": "display_data"
    }
   ],
   "source": [
    "1/abs(cliffs_delta_effect_size(deep_wiki300_res$ar, aucg_res$ar))"
   ]
  },
  {
   "cell_type": "code",
   "execution_count": 77,
   "metadata": {},
   "outputs": [
    {
     "data": {
      "text/html": [
       "9.96987668758418"
      ],
      "text/latex": [
       "9.96987668758418"
      ],
      "text/markdown": [
       "9.96987668758418"
      ],
      "text/plain": [
       "[1] 9.969877"
      ]
     },
     "metadata": {},
     "output_type": "display_data"
    }
   ],
   "source": [
    "1/abs(cliffs_delta_effect_size(deep_wiki300_res$ar, bnucg_res$ar))"
   ]
  },
  {
   "cell_type": "markdown",
   "metadata": {},
   "source": [
    "## Delta SA"
   ]
  },
  {
   "cell_type": "code",
   "execution_count": 197,
   "metadata": {},
   "outputs": [
    {
     "data": {
      "text/html": [
       "19.6903077094988"
      ],
      "text/latex": [
       "19.6903077094988"
      ],
      "text/markdown": [
       "19.6903077094988"
      ],
      "text/plain": [
       "[1] 19.69"
      ]
     },
     "metadata": {},
     "output_type": "display_data"
    }
   ],
   "source": [
    "sa(mean(deep_wiki300_res$ar), marp0) -  sa(mean(auc_res$ar), marp0)"
   ]
  },
  {
   "cell_type": "code",
   "execution_count": 198,
   "metadata": {},
   "outputs": [
    {
     "data": {
      "text/html": [
       "6.87987120078112"
      ],
      "text/latex": [
       "6.87987120078112"
      ],
      "text/markdown": [
       "6.87987120078112"
      ],
      "text/plain": [
       "[1] 6.88"
      ]
     },
     "metadata": {},
     "output_type": "display_data"
    }
   ],
   "source": [
    "sa(mean(deep_wiki300_res$ar), marp0) -  sa(mean(aucg_res$ar), marp0)"
   ]
  },
  {
   "cell_type": "code",
   "execution_count": 199,
   "metadata": {},
   "outputs": [
    {
     "data": {
      "text/html": [
       "4.49812149099866"
      ],
      "text/latex": [
       "4.49812149099866"
      ],
      "text/markdown": [
       "4.49812149099866"
      ],
      "text/plain": [
       "[1] 4.498"
      ]
     },
     "metadata": {},
     "output_type": "display_data"
    }
   ],
   "source": [
    "sa(mean(deep_wiki300_res$ar), marp0) -  sa(mean(bnucg_res$ar), marp0)"
   ]
  },
  {
   "cell_type": "code",
   "execution_count": null,
   "metadata": {},
   "outputs": [],
   "source": []
  },
  {
   "cell_type": "markdown",
   "metadata": {},
   "source": [
    "## MAR"
   ]
  },
  {
   "cell_type": "code",
   "execution_count": 78,
   "metadata": {},
   "outputs": [],
   "source": [
    "mar <- c()\n",
    "for (pred_res in pred_results){\n",
    "    mar <- c(mar, mean(pred_res$ar))\n",
    "}"
   ]
  },
  {
   "cell_type": "markdown",
   "metadata": {},
   "source": [
    "## MdAR"
   ]
  },
  {
   "cell_type": "code",
   "execution_count": 79,
   "metadata": {},
   "outputs": [],
   "source": [
    "mdar <- c()\n",
    "for (pred_res in pred_results){\n",
    "    mdar <- c(mdar, median(pred_res$ar))\n",
    "}"
   ]
  },
  {
   "cell_type": "markdown",
   "metadata": {},
   "source": [
    "## Accuracy summary table"
   ]
  },
  {
   "cell_type": "code",
   "execution_count": 80,
   "metadata": {},
   "outputs": [],
   "source": [
    "acc_summary_df <- data.frame(Model=model_names, SA=improvement_random, MAR=mar, MdAR=mdar)"
   ]
  },
  {
   "cell_type": "code",
   "execution_count": 130,
   "metadata": {},
   "outputs": [
    {
     "data": {
      "text/html": [
       "<table>\n",
       "<caption>A data.frame: 7 × 4</caption>\n",
       "<thead>\n",
       "\t<tr><th scope=col>Model</th><th scope=col>SA</th><th scope=col>MAR</th><th scope=col>MdAR</th></tr>\n",
       "\t<tr><th scope=col>&lt;fct&gt;</th><th scope=col>&lt;dbl&gt;</th><th scope=col>&lt;dbl&gt;</th><th scope=col>&lt;dbl&gt;</th></tr>\n",
       "</thead>\n",
       "<tbody>\n",
       "\t<tr><td>AUC                                 </td><td>25.64</td><td>4.732</td><td>3.794</td></tr>\n",
       "\t<tr><td>AUCG                                </td><td>38.45</td><td>3.917</td><td>2.894</td></tr>\n",
       "\t<tr><td>BN-UCGAIN                           </td><td>40.83</td><td>3.766</td><td>2.765</td></tr>\n",
       "\t<tr><td>DEEP-COSMIC-UC (Common Crawl 840B)  </td><td>45.02</td><td>3.499</td><td>2.284</td></tr>\n",
       "\t<tr><td>DEEP-COSMIC-UC (Common Crawl 42B)   </td><td>44.70</td><td>3.519</td><td>2.265</td></tr>\n",
       "\t<tr><td>DEEP-COSMIC-UC (Stack Overflow)     </td><td>43.56</td><td>3.592</td><td>2.337</td></tr>\n",
       "\t<tr><td>DEEP-COSMIC-UC (Wikipedia+Gigaworld)</td><td>45.33</td><td>3.479</td><td>2.204</td></tr>\n",
       "</tbody>\n",
       "</table>\n"
      ],
      "text/latex": [
       "A data.frame: 7 × 4\n",
       "\\begin{tabular}{r|llll}\n",
       " Model & SA & MAR & MdAR\\\\\n",
       " <fct> & <dbl> & <dbl> & <dbl>\\\\\n",
       "\\hline\n",
       "\t AUC                                  & 25.64 & 4.732 & 3.794\\\\\n",
       "\t AUCG                                 & 38.45 & 3.917 & 2.894\\\\\n",
       "\t BN-UCGAIN                            & 40.83 & 3.766 & 2.765\\\\\n",
       "\t DEEP-COSMIC-UC (Common Crawl 840B)   & 45.02 & 3.499 & 2.284\\\\\n",
       "\t DEEP-COSMIC-UC (Common Crawl 42B)    & 44.70 & 3.519 & 2.265\\\\\n",
       "\t DEEP-COSMIC-UC (Stack Overflow)      & 43.56 & 3.592 & 2.337\\\\\n",
       "\t DEEP-COSMIC-UC (Wikipedia+Gigaworld) & 45.33 & 3.479 & 2.204\\\\\n",
       "\\end{tabular}\n"
      ],
      "text/markdown": [
       "\n",
       "A data.frame: 7 × 4\n",
       "\n",
       "| Model &lt;fct&gt; | SA &lt;dbl&gt; | MAR &lt;dbl&gt; | MdAR &lt;dbl&gt; |\n",
       "|---|---|---|---|\n",
       "| AUC                                  | 25.64 | 4.732 | 3.794 |\n",
       "| AUCG                                 | 38.45 | 3.917 | 2.894 |\n",
       "| BN-UCGAIN                            | 40.83 | 3.766 | 2.765 |\n",
       "| DEEP-COSMIC-UC (Common Crawl 840B)   | 45.02 | 3.499 | 2.284 |\n",
       "| DEEP-COSMIC-UC (Common Crawl 42B)    | 44.70 | 3.519 | 2.265 |\n",
       "| DEEP-COSMIC-UC (Stack Overflow)      | 43.56 | 3.592 | 2.337 |\n",
       "| DEEP-COSMIC-UC (Wikipedia+Gigaworld) | 45.33 | 3.479 | 2.204 |\n",
       "\n"
      ],
      "text/plain": [
       "  Model                                SA    MAR   MdAR \n",
       "1 AUC                                  25.64 4.732 3.794\n",
       "2 AUCG                                 38.45 3.917 2.894\n",
       "3 BN-UCGAIN                            40.83 3.766 2.765\n",
       "4 DEEP-COSMIC-UC (Common Crawl 840B)   45.02 3.499 2.284\n",
       "5 DEEP-COSMIC-UC (Common Crawl 42B)    44.70 3.519 2.265\n",
       "6 DEEP-COSMIC-UC (Stack Overflow)      43.56 3.592 2.337\n",
       "7 DEEP-COSMIC-UC (Wikipedia+Gigaworld) 45.33 3.479 2.204"
      ]
     },
     "metadata": {},
     "output_type": "display_data"
    }
   ],
   "source": [
    "options(digits=4)\n",
    "acc_summary_df"
   ]
  },
  {
   "cell_type": "code",
   "execution_count": 127,
   "metadata": {},
   "outputs": [
    {
     "data": {
      "text/plain": [
       "\n",
       "\\begin{tabular}{lrrr}\n",
       "\\toprule\n",
       "Model & SA & MAR & MdAR\\\\\n",
       "\\midrule\n",
       "AUC & 25.64 & 4.732 & 3.794\\\\\n",
       "AUCG & 38.45 & 3.917 & 2.894\\\\\n",
       "BN-UCGAIN & 40.83 & 3.765 & 2.765\\\\\n",
       "DEEP-COSMIC-UC (Common Crawl 840B) & 45.02 & 3.499 & 2.284\\\\\n",
       "DEEP-COSMIC-UC (Common Crawl 42B) & 44.70 & 3.519 & 2.265\\\\\n",
       "\\addlinespace\n",
       "DEEP-COSMIC-UC (Stack Overflow) & 43.56 & 3.592 & 2.337\\\\\n",
       "DEEP-COSMIC-UC (Wikipedia+Gigaworld) & 45.33 & 3.479 & 2.204\\\\\n",
       "\\bottomrule\n",
       "\\end{tabular}"
      ]
     },
     "metadata": {},
     "output_type": "display_data"
    }
   ],
   "source": [
    "digits <- options()['digits']\n",
    "options(digits=4)\n",
    "kable(acc_summary_df, \"latex\", booktabs=T)\n",
    "options(digits=digits$digits)"
   ]
  },
  {
   "cell_type": "markdown",
   "metadata": {},
   "source": [
    "## Residual box-plots"
   ]
  },
  {
   "cell_type": "code",
   "execution_count": 132,
   "metadata": {},
   "outputs": [],
   "source": [
    "ars_df <- NULL\n",
    "for (pred_res in pred_results){\n",
    "    if (is.null(ars_df)){\n",
    "        ars_df <- data.frame( pred_res$ar)\n",
    "    }else{\n",
    "       ars_df <- cbind(ars_df, pred_res$ar)\n",
    "    }\n",
    "}\n",
    "colnames(ars_df) <- model_names"
   ]
  },
  {
   "cell_type": "code",
   "execution_count": 142,
   "metadata": {},
   "outputs": [],
   "source": [
    "ars_long_df <- gather(ars_df)\n",
    "colnames(ars_long_df) <- c('Model', 'AE')"
   ]
  },
  {
   "cell_type": "code",
   "execution_count": 196,
   "metadata": {},
   "outputs": [
    {
     "name": "stderr",
     "output_type": "stream",
     "text": [
      "Warning message:\n",
      "\"Ignoring unknown parameters: outlier.colour, outlier.shape, notch\"Warning message:\n",
      "\"`show_guide` has been deprecated. Please use `show.legend` instead.\"Warning message:\n",
      "\"`show_guide` has been deprecated. Please use `show.legend` instead.\"Warning message:\n",
      "\"Removed 20 rows containing missing values (geom_point).\"Warning message:\n",
      "\"Removed 17 rows containing missing values (geom_point).\""
     ]
    },
    {
     "data": {
      "image/png": "[encoded data removed]",
      "text/plain": [
       "plot without title"
      ]
     },
     "metadata": {},
     "output_type": "display_data"
    }
   ],
   "source": [
    "ggplot(ars_long_df, aes(x=Model, y=AE)) +\n",
    "scale_x_discrete(name = \"Model\") +\n",
    "scale_y_continuous(name = \"Absolute Error (AE)\", breaks = seq(0, 36, 2), limits=c(0, 36)) +\n",
    "geom_jitter(size=0.5, colour='gray', alpha=0.8) +\n",
    "geom_violin(fill = \"#1f74b2\", colour = \"black\", outlier.colour = \"black\", outlier.shape = 20, alpha=0.7, notch = F)  + \n",
    "stat_summary(fun.y=mean, colour=\"darkred\", geom=\"point\", \n",
    "               shape=18, size=3,show_guide = FALSE) + \n",
    "stat_summary(fun.y=median, colour=\"darkblue\", geom=\"point\", \n",
    "               shape=18, size=3,show_guide = FALSE) + \n",
    "theme_bw() + \n",
    "theme(axis.text.x = element_text(angle = 10, hjust = 1))\n",
    "#coord_flip()\n",
    "\n",
    "ggsave('./output/ae-plot.pdf', plot = last_plot(), \n",
    "  scale = 1, width = 10, height = 4, units = 'in',\n",
    "  dpi = 300,)\n",
    " "
   ]
  },
  {
   "cell_type": "markdown",
   "metadata": {},
   "source": [
    "## Use cases with the highest MAE"
   ]
  },
  {
   "cell_type": "code",
   "execution_count": 216,
   "metadata": {},
   "outputs": [
    {
     "data": {
      "text/html": [
       "<table>\n",
       "<caption>A grouped_df: 10 × 3</caption>\n",
       "<thead>\n",
       "\t<tr><th scope=col>UC</th><th scope=col>ProjectID</th><th scope=col>mae</th></tr>\n",
       "\t<tr><th scope=col>&lt;fct&gt;</th><th scope=col>&lt;fct&gt;</th><th scope=col>&lt;dbl&gt;</th></tr>\n",
       "</thead>\n",
       "<tbody>\n",
       "\t<tr><td>PU-SCMS-ZK-10     </td><td>P03</td><td>32.23</td></tr>\n",
       "\t<tr><td>UC2-5-4           </td><td>P01</td><td>31.88</td></tr>\n",
       "\t<tr><td>UC2-2-11          </td><td>P01</td><td>27.06</td></tr>\n",
       "\t<tr><td>UC2-3-7           </td><td>P01</td><td>22.74</td></tr>\n",
       "\t<tr><td>WF-SCMS2-MCP-ADM-7</td><td>P04</td><td>17.08</td></tr>\n",
       "\t<tr><td>PU-SCMS-ZK-19     </td><td>P03</td><td>16.88</td></tr>\n",
       "\t<tr><td>UC2-3-4           </td><td>P01</td><td>16.55</td></tr>\n",
       "\t<tr><td>AP_UC1            </td><td>P20</td><td>16.10</td></tr>\n",
       "\t<tr><td>Pwd               </td><td>P26</td><td>15.66</td></tr>\n",
       "\t<tr><td>UC6               </td><td>P09</td><td>15.49</td></tr>\n",
       "</tbody>\n",
       "</table>\n"
      ],
      "text/latex": [
       "A grouped_df: 10 × 3\n",
       "\\begin{tabular}{r|lll}\n",
       " UC & ProjectID & mae\\\\\n",
       " <fct> & <fct> & <dbl>\\\\\n",
       "\\hline\n",
       "\t PU-SCMS-ZK-10      & P03 & 32.23\\\\\n",
       "\t UC2-5-4            & P01 & 31.88\\\\\n",
       "\t UC2-2-11           & P01 & 27.06\\\\\n",
       "\t UC2-3-7            & P01 & 22.74\\\\\n",
       "\t WF-SCMS2-MCP-ADM-7 & P04 & 17.08\\\\\n",
       "\t PU-SCMS-ZK-19      & P03 & 16.88\\\\\n",
       "\t UC2-3-4            & P01 & 16.55\\\\\n",
       "\t AP\\_UC1             & P20 & 16.10\\\\\n",
       "\t Pwd                & P26 & 15.66\\\\\n",
       "\t UC6                & P09 & 15.49\\\\\n",
       "\\end{tabular}\n"
      ],
      "text/markdown": [
       "\n",
       "A grouped_df: 10 × 3\n",
       "\n",
       "| UC &lt;fct&gt; | ProjectID &lt;fct&gt; | mae &lt;dbl&gt; |\n",
       "|---|---|---|\n",
       "| PU-SCMS-ZK-10      | P03 | 32.23 |\n",
       "| UC2-5-4            | P01 | 31.88 |\n",
       "| UC2-2-11           | P01 | 27.06 |\n",
       "| UC2-3-7            | P01 | 22.74 |\n",
       "| WF-SCMS2-MCP-ADM-7 | P04 | 17.08 |\n",
       "| PU-SCMS-ZK-19      | P03 | 16.88 |\n",
       "| UC2-3-4            | P01 | 16.55 |\n",
       "| AP_UC1             | P20 | 16.10 |\n",
       "| Pwd                | P26 | 15.66 |\n",
       "| UC6                | P09 | 15.49 |\n",
       "\n"
      ],
      "text/plain": [
       "   UC                 ProjectID mae  \n",
       "1  PU-SCMS-ZK-10      P03       32.23\n",
       "2  UC2-5-4            P01       31.88\n",
       "3  UC2-2-11           P01       27.06\n",
       "4  UC2-3-7            P01       22.74\n",
       "5  WF-SCMS2-MCP-ADM-7 P04       17.08\n",
       "6  PU-SCMS-ZK-19      P03       16.88\n",
       "7  UC2-3-4            P01       16.55\n",
       "8  AP_UC1             P20       16.10\n",
       "9  Pwd                P26       15.66\n",
       "10 UC6                P09       15.49"
      ]
     },
     "metadata": {},
     "output_type": "display_data"
    }
   ],
   "source": [
    "head(deep_wiki300_res %>% group_by(UC, ProjectID) %>% summarise(mae=mean(ar)) %>% arrange(desc(mae)), 10)"
   ]
  },
  {
   "cell_type": "markdown",
   "metadata": {},
   "source": [
    "## MAE without 5% outliers"
   ]
  },
  {
   "cell_type": "code",
   "execution_count": 221,
   "metadata": {},
   "outputs": [],
   "source": [
    "most_outlying_uc_df <- head(deep_wiki300_res %>% group_by(UC, ProjectID) %>% summarise(mae=mean(ar)) %>% arrange(desc(mae)), 21)"
   ]
  },
  {
   "cell_type": "code",
   "execution_count": 222,
   "metadata": {},
   "outputs": [
    {
     "data": {
      "text/html": [
       "<table>\n",
       "<caption>A data.frame: 7 × 2</caption>\n",
       "<thead>\n",
       "\t<tr><th scope=col>Model</th><th scope=col>MAR</th></tr>\n",
       "\t<tr><th scope=col>&lt;fct&gt;</th><th scope=col>&lt;dbl&gt;</th></tr>\n",
       "</thead>\n",
       "<tbody>\n",
       "\t<tr><td>AUC                                 </td><td>3.782</td></tr>\n",
       "\t<tr><td>AUCG                                </td><td>3.019</td></tr>\n",
       "\t<tr><td>BN-UCGAIN                           </td><td>2.847</td></tr>\n",
       "\t<tr><td>DEEP-COSMIC-UC (Common Crawl 840B)  </td><td>2.450</td></tr>\n",
       "\t<tr><td>DEEP-COSMIC-UC (Common Crawl 42B)   </td><td>2.512</td></tr>\n",
       "\t<tr><td>DEEP-COSMIC-UC (Stack Overflow)     </td><td>2.562</td></tr>\n",
       "\t<tr><td>DEEP-COSMIC-UC (Wikipedia+Gigaworld)</td><td>2.387</td></tr>\n",
       "</tbody>\n",
       "</table>\n"
      ],
      "text/latex": [
       "A data.frame: 7 × 2\n",
       "\\begin{tabular}{r|ll}\n",
       " Model & MAR\\\\\n",
       " <fct> & <dbl>\\\\\n",
       "\\hline\n",
       "\t AUC                                  & 3.782\\\\\n",
       "\t AUCG                                 & 3.019\\\\\n",
       "\t BN-UCGAIN                            & 2.847\\\\\n",
       "\t DEEP-COSMIC-UC (Common Crawl 840B)   & 2.450\\\\\n",
       "\t DEEP-COSMIC-UC (Common Crawl 42B)    & 2.512\\\\\n",
       "\t DEEP-COSMIC-UC (Stack Overflow)      & 2.562\\\\\n",
       "\t DEEP-COSMIC-UC (Wikipedia+Gigaworld) & 2.387\\\\\n",
       "\\end{tabular}\n"
      ],
      "text/markdown": [
       "\n",
       "A data.frame: 7 × 2\n",
       "\n",
       "| Model &lt;fct&gt; | MAR &lt;dbl&gt; |\n",
       "|---|---|\n",
       "| AUC                                  | 3.782 |\n",
       "| AUCG                                 | 3.019 |\n",
       "| BN-UCGAIN                            | 2.847 |\n",
       "| DEEP-COSMIC-UC (Common Crawl 840B)   | 2.450 |\n",
       "| DEEP-COSMIC-UC (Common Crawl 42B)    | 2.512 |\n",
       "| DEEP-COSMIC-UC (Stack Overflow)      | 2.562 |\n",
       "| DEEP-COSMIC-UC (Wikipedia+Gigaworld) | 2.387 |\n",
       "\n"
      ],
      "text/plain": [
       "  Model                                MAR  \n",
       "1 AUC                                  3.782\n",
       "2 AUCG                                 3.019\n",
       "3 BN-UCGAIN                            2.847\n",
       "4 DEEP-COSMIC-UC (Common Crawl 840B)   2.450\n",
       "5 DEEP-COSMIC-UC (Common Crawl 42B)    2.512\n",
       "6 DEEP-COSMIC-UC (Stack Overflow)      2.562\n",
       "7 DEEP-COSMIC-UC (Wikipedia+Gigaworld) 2.387"
      ]
     },
     "metadata": {},
     "output_type": "display_data"
    }
   ],
   "source": [
    "mar_out <- c()\n",
    "for (pred_res in pred_results){\n",
    "    mar_out <- c(mar_out, mean((pred_res %>% filter(!(UC %in% most_outlying_uc_df$UC), !(ProjectID %in% most_outlying_uc_df$ProjectID)))$ar))\n",
    "}\n",
    "data.frame(Model=model_names,  MAR=mar_out)"
   ]
  },
  {
   "cell_type": "code",
   "execution_count": null,
   "metadata": {},
   "outputs": [],
   "source": []
  },
  {
   "cell_type": "code",
   "execution_count": null,
   "metadata": {},
   "outputs": [],
   "source": []
  },
  {
   "cell_type": "code",
   "execution_count": null,
   "metadata": {},
   "outputs": [],
   "source": []
  }
 ],
 "metadata": {
  "kernelspec": {
   "display_name": "R",
   "language": "R",
   "name": "ir"
  },
  "language_info": {
   "codemirror_mode": "r",
   "file_extension": ".r",
   "mimetype": "text/x-r-source",
   "name": "R",
   "pygments_lexer": "r",
   "version": "3.6.0"
  }
 },
 "nbformat": 4,
 "nbformat_minor": 2
}
