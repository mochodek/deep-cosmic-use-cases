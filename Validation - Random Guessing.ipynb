{
 "cells": [
  {
   "cell_type": "markdown",
   "metadata": {},
   "source": [
    "# Validatation - Random Guessing"
   ]
  },
  {
   "cell_type": "markdown",
   "metadata": {},
   "source": [
    "We use random guessing as a baseline for comparison and use Langdon et al. method to calculate the MARP0.\n",
    "\n",
    "Langdon, William B., et al. \"Exact mean absolute error of baseline predictor, MARP0.\" Information and Software Technology 73 (2016): 16-18.\n"
   ]
  },
  {
   "cell_type": "markdown",
   "metadata": {},
   "source": [
    "## Imports"
   ]
  },
  {
   "cell_type": "code",
   "execution_count": 16,
   "metadata": {},
   "outputs": [],
   "source": [
    "import pandas as pd\n",
    "\n",
    "from paths import input_folder, output_folder\n",
    "\n",
    "import numpy as np\n",
    "import matplotlib.pyplot as plt\n",
    "%matplotlib inline"
   ]
  },
  {
   "cell_type": "markdown",
   "metadata": {},
   "source": [
    "# Load data"
   ]
  },
  {
   "cell_type": "code",
   "execution_count": 2,
   "metadata": {},
   "outputs": [
    {
     "data": {
      "text/html": [
       "<div>\n",
       "<style scoped>\n",
       "    .dataframe tbody tr th:only-of-type {\n",
       "        vertical-align: middle;\n",
       "    }\n",
       "\n",
       "    .dataframe tbody tr th {\n",
       "        vertical-align: top;\n",
       "    }\n",
       "\n",
       "    .dataframe thead th {\n",
       "        text-align: right;\n",
       "    }\n",
       "</style>\n",
       "<table border=\"1\" class=\"dataframe\">\n",
       "  <thead>\n",
       "    <tr style=\"text-align: right;\">\n",
       "      <th></th>\n",
       "      <th>ProjectID</th>\n",
       "      <th>UC</th>\n",
       "      <th>TransTypes</th>\n",
       "      <th>UCType</th>\n",
       "      <th>Cfp</th>\n",
       "      <th>TitleTokens</th>\n",
       "    </tr>\n",
       "  </thead>\n",
       "  <tbody>\n",
       "    <tr>\n",
       "      <th>0</th>\n",
       "      <td>P01</td>\n",
       "      <td>UC2-1-1</td>\n",
       "      <td>C|D|R|U</td>\n",
       "      <td>C|D|R|U</td>\n",
       "      <td>16</td>\n",
       "      <td>manage faculties crud</td>\n",
       "    </tr>\n",
       "    <tr>\n",
       "      <th>1</th>\n",
       "      <td>P01</td>\n",
       "      <td>UC2-1-10</td>\n",
       "      <td>DL|L|R</td>\n",
       "      <td>L</td>\n",
       "      <td>27</td>\n",
       "      <td>assign science olympiads major specialty edit ...</td>\n",
       "    </tr>\n",
       "    <tr>\n",
       "      <th>2</th>\n",
       "      <td>P01</td>\n",
       "      <td>UC2-1-11</td>\n",
       "      <td>CS|R</td>\n",
       "      <td>CS</td>\n",
       "      <td>7</td>\n",
       "      <td>manage ranking algorithms</td>\n",
       "    </tr>\n",
       "    <tr>\n",
       "      <th>3</th>\n",
       "      <td>P01</td>\n",
       "      <td>UC2-1-13</td>\n",
       "      <td>C|D|R|U</td>\n",
       "      <td>C|D|R|U</td>\n",
       "      <td>17</td>\n",
       "      <td>manage exams crud</td>\n",
       "    </tr>\n",
       "    <tr>\n",
       "      <th>4</th>\n",
       "      <td>P01</td>\n",
       "      <td>UC2-1-14</td>\n",
       "      <td>DL|L|R</td>\n",
       "      <td>L</td>\n",
       "      <td>27</td>\n",
       "      <td>manage assignments exams majors specialties</td>\n",
       "    </tr>\n",
       "  </tbody>\n",
       "</table>\n",
       "</div>"
      ],
      "text/plain": [
       "  ProjectID        UC TransTypes   UCType  Cfp  \\\n",
       "0       P01   UC2-1-1    C|D|R|U  C|D|R|U   16   \n",
       "1       P01  UC2-1-10     DL|L|R        L   27   \n",
       "2       P01  UC2-1-11       CS|R       CS    7   \n",
       "3       P01  UC2-1-13    C|D|R|U  C|D|R|U   17   \n",
       "4       P01  UC2-1-14     DL|L|R        L   27   \n",
       "\n",
       "                                         TitleTokens  \n",
       "0                              manage faculties crud  \n",
       "1  assign science olympiads major specialty edit ...  \n",
       "2                          manage ranking algorithms  \n",
       "3                                  manage exams crud  \n",
       "4        manage assignments exams majors specialties  "
      ]
     },
     "execution_count": 2,
     "metadata": {},
     "output_type": "execute_result"
    }
   ],
   "source": [
    "use_cases_df = pd.read_csv(f\"{input_folder}use-cases.csv\", index_col=0)\n",
    "use_cases_df.head(5)"
   ]
  },
  {
   "cell_type": "markdown",
   "metadata": {},
   "source": [
    "## MARP0"
   ]
  },
  {
   "cell_type": "code",
   "execution_count": 3,
   "metadata": {},
   "outputs": [],
   "source": [
    "use_case_sizes = use_cases_df['Cfp'].tolist()"
   ]
  },
  {
   "cell_type": "code",
   "execution_count": 4,
   "metadata": {},
   "outputs": [],
   "source": [
    "sum_ae = 0\n",
    "n = len(use_case_sizes)\n",
    "for i in range(n):\n",
    "    for j in range(i):\n",
    "        sum_ae += abs(use_case_sizes[i] - use_case_sizes[j])\n",
    "        \n",
    "marp0 = (2 * sum_ae) / float(n**2)"
   ]
  },
  {
   "cell_type": "code",
   "execution_count": 8,
   "metadata": {},
   "outputs": [
    {
     "data": {
      "text/plain": [
       "6.364090506836188"
      ]
     },
     "execution_count": 8,
     "metadata": {},
     "output_type": "execute_result"
    }
   ],
   "source": [
    "marp0"
   ]
  },
  {
   "cell_type": "code",
   "execution_count": 14,
   "metadata": {},
   "outputs": [],
   "source": [
    "marp0_df = pd.DataFrame({'MARP0' : [marp0,]})"
   ]
  },
  {
   "cell_type": "code",
   "execution_count": 21,
   "metadata": {},
   "outputs": [],
   "source": [
    "marp0_df.to_csv(f'{output_folder}validation-marp0.csv')\n",
    "marp0_df.to_excel(f'{output_folder}validation-marp0.xlsx')"
   ]
  }
 ],
 "metadata": {
  "kernelspec": {
   "display_name": "Python3 ML-GPU",
   "language": "python",
   "name": "ml"
  },
  "language_info": {
   "codemirror_mode": {
    "name": "ipython",
    "version": 3
   },
   "file_extension": ".py",
   "mimetype": "text/x-python",
   "name": "python",
   "nbconvert_exporter": "python",
   "pygments_lexer": "ipython3",
   "version": "3.6.6"
  }
 },
 "nbformat": 4,
 "nbformat_minor": 2
}
